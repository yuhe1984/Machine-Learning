{
 "cells": [
  {
   "cell_type": "code",
   "execution_count": 23,
   "metadata": {
    "collapsed": true
   },
   "outputs": [],
   "source": [
    "import numpy as np\n",
    "import matplotlib.pyplot as plt"
   ]
  },
  {
   "cell_type": "code",
   "execution_count": 30,
   "metadata": {},
   "outputs": [
    {
     "name": "stdout",
     "output_type": "stream",
     "text": [
      "[-0.54711566 -0.72707208 -0.11497468  0.84086332 -0.93465802  0.90669039]\n"
     ]
    }
   ],
   "source": [
    "#输入数据\n",
    "X = np.array([[1,0,0,0,0,0],\n",
    "              [1,0,1,0,0,1],\n",
    "              [1,1,0,1,0,0],\n",
    "              [1,1,1,1,1,1]])\n",
    "\n",
    "#标签\n",
    "Y = np.array([-1,1,1,-1])\n",
    "#权值初始化,取值范围-1到1\n",
    "W = (np.random.random(6)-0.5)*2\n",
    "print(W)\n",
    "#学习率设置\n",
    "lr = 0.11\n",
    "#计算迭代次数\n",
    "n = 0\n",
    "#神经网络输出\n",
    "O = 0\n",
    "\n",
    "def update():\n",
    "    global X,Y,W,lr,n\n",
    "    n+=1\n",
    "    O = np.dot(X,W.T) #shape:(3,1)\n",
    "    W_C = lr*((Y-O.T).dot(X))/int(X.shape[0])\n",
    "    W = W + W_C"
   ]
  },
  {
   "cell_type": "code",
   "execution_count": 41,
   "metadata": {},
   "outputs": [
    {
     "data": {
      "image/png": "[encoded data removed]",
      "text/plain": [
       "<matplotlib.figure.Figure at 0x25060491780>"
      ]
     },
     "metadata": {},
     "output_type": "display_data"
    }
   ],
   "source": [
    "for _ in range(1000):\n",
    "    update()#更新权值\n",
    "    \n",
    "        \n",
    "#正样本\n",
    "x1 = [0,1]\n",
    "y1 = [1,0]\n",
    "#负样本\n",
    "x2 = [0,1]\n",
    "y2 = [0,1]\n",
    "\n",
    "def calculate(x,root):\n",
    "    a = W[5]\n",
    "    b = W[2]+x*W[4]\n",
    "    c = W[0]+x*W[1]+x*x*W[3]\n",
    "    if root==1:\n",
    "        return(-b+np.sqrt(b*b-4*a*c))/(2*a)\n",
    "    if root==2:\n",
    "        return(-b-np.sqrt(b*b-4*a*c))/(2*a)\n",
    "    \n",
    "    \n",
    "\n",
    "xdata = np.linspace(-1,2)\n",
    "\n",
    "plt.figure()\n",
    "\n",
    "plt.plot(xdata,calculate(xdata,1),'r')\n",
    "plt.plot(xdata,calculate(xdata,2),'r')\n",
    "\n",
    "plt.plot(x1,y1,'bo')\n",
    "plt.plot(x2,y2,'yo')\n",
    "plt.show()"
   ]
  },
  {
   "cell_type": "code",
   "execution_count": 42,
   "metadata": {},
   "outputs": [
    {
     "name": "stdout",
     "output_type": "stream",
     "text": [
      "[-1.  1.  1. -1.]\n"
     ]
    }
   ],
   "source": [
    "O = np.dot(X,W.T)\n",
    "print(O)"
   ]
  },
  {
   "cell_type": "code",
   "execution_count": null,
   "metadata": {
    "collapsed": true
   },
   "outputs": [],
   "source": []
  }
 ],
 "metadata": {
  "kernelspec": {
   "display_name": "Python 3",
   "language": "python",
   "name": "python3"
  },
  "language_info": {
   "codemirror_mode": {
    "name": "ipython",
    "version": 3
   },
   "file_extension": ".py",
   "mimetype": "text/x-python",
   "name": "python",
   "nbconvert_exporter": "python",
   "pygments_lexer": "ipython3",
   "version": "3.6.3"
  }
 },
 "nbformat": 4,
 "nbformat_minor": 2
}
