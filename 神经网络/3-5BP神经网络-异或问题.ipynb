{
 "cells": [
  {
   "cell_type": "code",
   "execution_count": 1,
   "metadata": {
    "collapsed": true
   },
   "outputs": [],
   "source": [
    "import numpy as np\n",
    "import matplotlib.pyplot as plt"
   ]
  },
  {
   "cell_type": "code",
   "execution_count": 2,
   "metadata": {},
   "outputs": [
    {
     "name": "stdout",
     "output_type": "stream",
     "text": [
      "[[ 0.52814523 -0.81277753  0.91672211 -0.43156939]\n",
      " [ 0.25407775  0.09501015  0.93974741  0.82808755]\n",
      " [ 0.88612199 -0.04098404  0.18911869 -0.58918101]]\n",
      "[[-0.45989517]\n",
      " [-0.3408717 ]\n",
      " [-0.59662375]\n",
      " [ 0.93427995]]\n"
     ]
    }
   ],
   "source": [
    "#输入数据\n",
    "X = np.array([[1,0,0],\n",
    "            [1,0,1],\n",
    "            [1,1,0],\n",
    "            [1,1,1]])\n",
    "#标签\n",
    "Y = np.array([[0,1,1,0]])\n",
    "#权值初始化，1行3列，取值范围-1到1\n",
    "V = np.random.random((3,4))*2-1\n",
    "W = np.random.random((4,1))*2-1\n",
    "print(V)\n",
    "print(W)\n",
    "#学习率设置\n",
    "lr = 0.11\n",
    "\n",
    "def sigmoid(x):\n",
    "    return 1/(1+np.exp(-x))\n",
    "\n",
    "def dsigmoid(x):\n",
    "    return x*(1-x)\n",
    "def update():\n",
    "    global X,Y,W,V,lr\n",
    "    \n",
    "    L1 = sigmoid(np.dot(X,V))#隐藏层输出(4,4)\n",
    "    L2 = sigmoid(np.dot(L1,W))#隐藏层输出(4,1)\n",
    "    \n",
    "    L2_delta = (Y.T - L2)*dsigmoid(L2)\n",
    "    L1_delta = L2_delta.dot(W.T)*dsigmoid(L1)\n",
    "    \n",
    "    W_C = lr*L1.T.dot(L2_delta)\n",
    "    V_C = lr*X.T.dot(L1_delta)\n",
    "    \n",
    "    W = W + W_C\n",
    "    V = V + V_C"
   ]
  },
  {
   "cell_type": "code",
   "execution_count": 3,
   "metadata": {},
   "outputs": [
    {
     "name": "stdout",
     "output_type": "stream",
     "text": [
      "Error: 0.4999368360503305\n",
      "Error: 0.49616150086690775\n",
      "Error: 0.4843524541297146\n",
      "Error: 0.433443052139505\n",
      "Error: 0.3001183170147705\n",
      "Error: 0.18765743715876146\n",
      "Error: 0.13506877525452243\n",
      "Error: 0.10760511817529489\n",
      "Error: 0.09088576516012004\n",
      "Error: 0.0795810213767506\n",
      "Error: 0.07137345061984744\n",
      "Error: 0.06510643355302569\n",
      "Error: 0.06013956687168376\n",
      "Error: 0.05608927773317469\n",
      "Error: 0.05271138906930433\n",
      "Error: 0.04984275339709532\n",
      "Error: 0.04736999751277791\n",
      "Error: 0.04521173828678031\n",
      "Error: 0.04330794282587882\n",
      "Error: 0.041613289069070324\n",
      "Error: 0.04009287155109385\n",
      "Error: 0.038719336984882356\n",
      "Error: 0.037470921667234806\n",
      "Error: 0.036330074783085156\n",
      "Error: 0.03528247241093573\n",
      "Error: 0.03431629815756409\n",
      "Error: 0.033421709545792676\n",
      "Error: 0.03259043623298209\n",
      "Error: 0.031815473370869526\n",
      "Error: 0.031090844679608754\n",
      "Error: 0.030411417316915372\n",
      "Error: 0.02977275572003251\n",
      "Error: 0.029171005115998752\n",
      "Error: 0.02860279786086154\n",
      "Error: 0.02806517752038115\n",
      "Error: 0.027555536866040932\n",
      "Error: 0.027071566879190528\n",
      "Error: 0.026611214533291266\n",
      "Error: 0.02617264762840784\n",
      "Error: 0.02575422533111509\n",
      "[[0.01733221]\n",
      " [0.97080788]\n",
      " [0.97567496]\n",
      " [0.03057165]]\n",
      "0\n",
      "1\n",
      "1\n",
      "0\n"
     ]
    }
   ],
   "source": [
    "for i in range(20000):\n",
    "    update()#更新权值\n",
    "    if i%500==0:\n",
    "        L1 = sigmoid(np.dot(X,V))#隐藏层输出(4,4)\n",
    "        L2 = sigmoid(np.dot(L1,W))#隐藏层输出(4,1)\n",
    "        print('Error:',np.mean(np.abs(Y.T-L2)))\n",
    "    \n",
    "L1 = sigmoid(np.dot(X,V))#隐藏层输出(4,4)\n",
    "L2 = sigmoid(np.dot(L1,W))#隐藏层输出(4,1)\n",
    "print(L2)\n",
    "\n",
    "def judge(x):\n",
    "    if x>=0.5:\n",
    "        return 1\n",
    "    else:\n",
    "        return 0\n",
    "    \n",
    "for i in map(judge,L2):\n",
    "    print(i)"
   ]
  },
  {
   "cell_type": "code",
   "execution_count": null,
   "metadata": {
    "collapsed": true
   },
   "outputs": [],
   "source": []
  }
 ],
 "metadata": {
  "kernelspec": {
   "display_name": "Python 3",
   "language": "python",
   "name": "python3"
  },
  "language_info": {
   "codemirror_mode": {
    "name": "ipython",
    "version": 3
   },
   "file_extension": ".py",
   "mimetype": "text/x-python",
   "name": "python",
   "nbconvert_exporter": "python",
   "pygments_lexer": "ipython3",
   "version": "3.6.3"
  }
 },
 "nbformat": 4,
 "nbformat_minor": 2
}
