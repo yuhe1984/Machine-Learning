{
 "cells": [
  {
   "cell_type": "code",
   "execution_count": 2,
   "metadata": {
    "collapsed": true
   },
   "outputs": [],
   "source": [
    "import numpy as np\n",
    "import matplotlib.pyplot as plt"
   ]
  },
  {
   "cell_type": "code",
   "execution_count": 3,
   "metadata": {},
   "outputs": [
    {
     "data": {
      "image/png": "[encoded data removed]",
      "text/plain": [
       "<matplotlib.figure.Figure at 0x22aa51697f0>"
      ]
     },
     "metadata": {},
     "output_type": "display_data"
    }
   ],
   "source": [
    "# 载入数据\n",
    "data = np.genfromtxt(\"kmeans.txt\", delimiter=\" \")\n",
    "\n",
    "plt.scatter(data[:,0],data[:,1])\n",
    "plt.show()"
   ]
  },
  {
   "cell_type": "code",
   "execution_count": 4,
   "metadata": {
    "collapsed": true
   },
   "outputs": [],
   "source": [
    "# 计算距离\n",
    "def euclDistance(vector1, vector2):\n",
    "    return np.sqrt(sum((vector2 - vector1)**2))\n",
    "\n",
    "# 初始化质心\n",
    "def initCentroids(data, k):\n",
    "    numSamples, dim = data.shape\n",
    "    # k个质心，列出跟样本的列数一样\n",
    "    centroids = np.zeros((k, dim))\n",
    "    # 随机选出k个质心\n",
    "    for i in range(k):\n",
    "        # 随机选出一个样本的索引\n",
    "        index = int(np.random.uniform(0, numSamples))\n",
    "        # 作为初始化质心\n",
    "        centroids[i, :] = data[index, :]\n",
    "    return centroids\n",
    "\n",
    "# 传入数据集和k的值\n",
    "def kmeans(data, k):\n",
    "    # 计算样本个数\n",
    "    numSamples = data.shape[0]\n",
    "    # 样本的属性，第一列保存该样本属于哪个簇，第二列保存该样本跟它所属簇的误差\n",
    "    clusterData = np.array(np.zeros((numSamples, 2)))\n",
    "    # 决定质心是否要改变的变量\n",
    "    clusterChanged = True\n",
    "    \n",
    "    # 初始化质心\n",
    "    centroids = initCentroids(data, k)\n",
    "    \n",
    "    while clusterChanged:\n",
    "        clusterChanged = False\n",
    "        # 循环每一个样本\n",
    "        for i in range(numSamples):\n",
    "            # 最小距离\n",
    "            minDist = 100000.0\n",
    "            # 定义样本所属的簇\n",
    "            minIndex = 0\n",
    "            # 循环每一个质心和样本，计算距离\n",
    "            for j in range(k):\n",
    "                # 循环每一个质心和样本\n",
    "                distance = euclDistance(centroids[j, :], data[i, :])\n",
    "                # 如果计算的距离小于最小距离，则更新最小距离\n",
    "                if distance < minDist:\n",
    "                    minDist = distance\n",
    "                    # 更新最小距离\n",
    "                    clusterData[i, 1] = minDist\n",
    "                    # 更新样本所属的簇\n",
    "                    minIndex = j\n",
    "                \n",
    "            # 如果样本的所属的簇发生了变化\n",
    "            if clusterData[i, 0] != minIndex:\n",
    "                # 质心要重新计算\n",
    "                clusterChanged = True\n",
    "                # 更新样本的簇\n",
    "                clusterData[i, 0] = minIndex\n",
    "            \n",
    "        # 更新质心\n",
    "        for j in range(k):\n",
    "            # 获取第j个簇所有的样本所在的索引\n",
    "            cluster_index = np.nonzero(clusterData[:, 0] == j)\n",
    "            # 第j个簇所有的样本点\n",
    "            pointsInCluster = data[cluster_index]\n",
    "            # 计算质心\n",
    "            centroids[j, :] = np.mean(pointsInCluster, axis = 0)\n",
    "#        showCluster(data, k, centroids, clusterData)\n",
    "\n",
    "    return centroids, clusterData\n",
    "\n",
    "# 显示结果\n",
    "def showCluster(data, k, centroids, clusterData):\n",
    "    numSamples, dim = data.shape\n",
    "    if dim != 2:\n",
    "        print(\"dimension of yoour data is not 2!\")\n",
    "        return 1\n",
    "    \n",
    "    # 用不同颜色形状来表示各个类别\n",
    "    mark = ['or', 'ob', 'og', 'ok', '^r', '+r', 'sr', 'dr', '<r','pr']\n",
    "    if k > len(mark):\n",
    "        print(\"Your k is too large！\")\n",
    "        return 1\n",
    "    \n",
    "    # 画样本点\n",
    "    for i in range(numSamples):\n",
    "        markIndex = int(clusterData[i, 0])\n",
    "        plt.plot(data[i, 0], data[i, 1], mark[markIndex])\n",
    "        \n",
    "    # 用不同颜色形状来表示各个形状\n",
    "    mark = ['*r', '*b', '*g', '*k', '^b', 'sb', 'db', '<b', 'pb']\n",
    "    # 画质心点\n",
    "    for i in range(k):\n",
    "        plt.plot(centroids[i, 0], centroids[i, 1], mark[i], markersize = 20)\n",
    "        \n",
    "    plt.show()"
   ]
  },
  {
   "cell_type": "code",
   "execution_count": 5,
   "metadata": {},
   "outputs": [
    {
     "name": "stderr",
     "output_type": "stream",
     "text": [
      "C:\\Users\\Administrator\\AppData\\Roaming\\Python\\Python36\\site-packages\\numpy\\core\\fromnumeric.py:3118: RuntimeWarning: Mean of empty slice.\n",
      "  out=out, **kwargs)\n",
      "C:\\Users\\Administrator\\AppData\\Roaming\\Python\\Python36\\site-packages\\numpy\\core\\_methods.py:78: RuntimeWarning: invalid value encountered in true_divide\n",
      "  ret, rcount, out=ret, casting='unsafe', subok=False)\n"
     ]
    }
   ],
   "source": [
    "list_lost = []\n",
    "for k in range(2,10):\n",
    "    min_loss = 10000000\n",
    "    min_loss_centroids = np.array([])\n",
    "    min_loss_clusterData = np.array([])\n",
    "    for i in range(50):\n",
    "        # centrtroids 簇的中心点\n",
    "        # cluster Data样本的属性，第一列保存该样本属于哪个簇，第二列保存该样本跟它所属簇的误差\n",
    "        centroids, clusterData = kmeans(data, k)\n",
    "        loss = sum(clusterData[:,1])/data.shape[0]\n",
    "        if loss < min_loss:\n",
    "            min_loss = loss\n",
    "            min_loss_centroids = centroids\n",
    "            min_loss_clusterData = clusterData\n",
    "    list_lost.append(min_loss)\n",
    "# print('cluster complete!')\n",
    "# centrodis = min_loss_centroids\n",
    "# cluster = min_loss_clusterData\n",
    "\n",
    "# 显示结果\n",
    "# showCluster(data, k, centroids, clusterData)"
   ]
  },
  {
   "cell_type": "code",
   "execution_count": 20,
   "metadata": {},
   "outputs": [
    {
     "data": {
      "text/plain": [
       "[2.9811811738953176,\n",
       " 1.9708559728104191,\n",
       " 1.1675654672086735,\n",
       " 1.0712368269135584,\n",
       " 1.0070467279803759,\n",
       " 0.9419374627997341,\n",
       " 0.8790597068923827,\n",
       " 0.8488704187445169]"
      ]
     },
     "execution_count": 20,
     "metadata": {},
     "output_type": "execute_result"
    }
   ],
   "source": [
    "list_lost"
   ]
  },
  {
   "cell_type": "code",
   "execution_count": 21,
   "metadata": {},
   "outputs": [
    {
     "data": {
      "image/png": "[encoded data removed]",
      "text/plain": [
       "<matplotlib.figure.Figure at 0x22aa82398d0>"
      ]
     },
     "metadata": {},
     "output_type": "display_data"
    }
   ],
   "source": [
    "plt.plot(range(2,10),list_lost)\n",
    "plt.xlabel('k')\n",
    "plt.ylabel('loss')\n",
    "plt.show()"
   ]
  },
  {
   "cell_type": "code",
   "execution_count": null,
   "metadata": {
    "collapsed": true
   },
   "outputs": [],
   "source": []
  }
 ],
 "metadata": {
  "kernelspec": {
   "display_name": "Python 3",
   "language": "python",
   "name": "python3"
  },
  "language_info": {
   "codemirror_mode": {
    "name": "ipython",
    "version": 3
   },
   "file_extension": ".py",
   "mimetype": "text/x-python",
   "name": "python",
   "nbconvert_exporter": "python",
   "pygments_lexer": "ipython3",
   "version": "3.6.3"
  }
 },
 "nbformat": 4,
 "nbformat_minor": 2
}
